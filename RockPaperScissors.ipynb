{
  "cells": [
    {
      "cell_type": "markdown",
      "metadata": {
        "id": "view-in-github",
        "colab_type": "text"
      },
      "source": [
        "<a href=\"https://colab.research.google.com/github/YemiAtta/Data-Analysis_Python/blob/main/RockPaperScissors.ipynb\" target=\"_parent\"><img src=\"https://colab.research.google.com/assets/colab-badge.svg\" alt=\"Open In Colab\"/></a>"
      ]
    },
    {
      "cell_type": "code",
      "execution_count": null,
      "metadata": {
        "colab": {
          "background_save": true,
          "base_uri": "https://localhost:8080/"
        },
        "id": "a7aj6xnxMnJe",
        "outputId": "a62eaa5e-ffab-4105-dd3a-ea18e38ecf35"
      },
      "outputs": [
        {
          "metadata": {
            "tags": null
          },
          "name": "stdout",
          "output_type": "stream",
          "text": [
            "Let's play Rock, Paper, Scissors!\n"
          ]
        }
      ],
      "source": [
        "import random\n",
        "\n",
        "def get_user_choice():\n",
        "    # Prompt the user to choose rock (r), paper (p), or scissors (s)\n",
        "    while True:\n",
        "        user_choice = input(\"Please choose (r)ock, (p)aper, or (s)cissors: \").lower()\n",
        "        if user_choice in ['r', 'p', 's']:\n",
        "            return user_choice\n",
        "        else:\n",
        "            print(\"Invalid choice. Please try again.\")\n",
        "\n",
        "def get_computer_choice():\n",
        "    # Generate a random choice for the computer: rock (r), paper (p), or scissors (s)\n",
        "    computer_choice = random.choice(['r', 'p', 's'])\n",
        "    return computer_choice\n",
        "\n",
        "def determine_winner(user_choice, computer_choice):\n",
        "    # Determine the winner based on the choices made by the user and computer\n",
        "    if user_choice == computer_choice:\n",
        "        return \"It's a tie!\"\n",
        "    elif (user_choice == 'r' and computer_choice == 's') or \\\n",
        "         (user_choice == 'p' and computer_choice == 'r') or \\\n",
        "         (user_choice == 's' and computer_choice == 'p'):\n",
        "        return \"You win!\"\n",
        "    else:\n",
        "        return \"Computer wins!\"\n",
        "\n",
        "def play_game():\n",
        "    print(\"Let's play Rock, Paper, Scissors!\")\n",
        "    while True:\n",
        "        user_choice = get_user_choice()\n",
        "        computer_choice = get_computer_choice()\n",
        "        print(f\"You chose: {user_choice}\")\n",
        "        print(f\"Computer chose: {computer_choice}\")\n",
        "        result = determine_winner(user_choice, computer_choice)\n",
        "        print(result)\n",
        "        play_again = input(\"Do you want to play again? (yes/no): \").lower()\n",
        "        if play_again != 'yes':\n",
        "            break\n",
        "    print(\"Thanks for playing!\")\n",
        "\n",
        "# Start the game\n",
        "play_game()\n"
      ]
    }
  ],
  "metadata": {
    "colab": {
      "provenance": [],
      "authorship_tag": "ABX9TyPgqwS+a+z+7UDxcvxlYFXv",
      "include_colab_link": true
    },
    "kernelspec": {
      "display_name": "Python 3",
      "name": "python3"
    },
    "language_info": {
      "name": "python"
    }
  },
  "nbformat": 4,
  "nbformat_minor": 0
}